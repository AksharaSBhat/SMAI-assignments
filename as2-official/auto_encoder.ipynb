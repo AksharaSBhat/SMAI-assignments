{
 "cells": [
  {
   "cell_type": "code",
   "execution_count": 51,
   "metadata": {},
   "outputs": [],
   "source": [
    "import torch.nn as nn\n",
    "import torch\n",
    "from torchvision import datasets, transforms\n",
    "from torch.utils.data import DataLoader\n",
    "from torch.optim import Adam\n",
    "import matplotlib.pyplot as plt"
   ]
  },
  {
   "cell_type": "code",
   "execution_count": 52,
   "metadata": {},
   "outputs": [],
   "source": [
    "learning_rate = 0.001 \n",
    "batch_size = 256\n",
    "num_epochs = 10\n",
    "num_classes = 10\n",
    "normal_dig = 6"
   ]
  },
  {
   "cell_type": "code",
   "execution_count": 53,
   "metadata": {},
   "outputs": [],
   "source": [
    "train_data = datasets.MNIST(root='mnist_data', train=True, transform=transforms.ToTensor(), download=True)\n",
    "test_data = datasets.MNIST(root='mnist_data', train=False, transform=transforms.ToTensor(), download=True)\n",
    "\n",
    "# Filter only normal digits for training\n",
    "indices = train_data.targets == normal_dig\n",
    "train_data.targets, train_data.data = train_data.targets[indices], train_data.data[indices]\n",
    "\n",
    "train_loader = DataLoader(dataset=train_data, batch_size=batch_size, shuffle=True)\n",
    "test_loader = DataLoader(dataset=test_data, batch_size=batch_size, shuffle=False)"
   ]
  },
  {
   "cell_type": "code",
   "execution_count": 56,
   "metadata": {},
   "outputs": [],
   "source": [
    "class AutoEncoder(nn.Module):\n",
    "    def __init__(self, bottleneck_size=8):\n",
    "        super(AutoEncoder, self).__init__()\n",
    "\n",
    "        self.encoder = nn.Sequential(\n",
    "            nn.Conv2d(1, 16, stride=1, kernel_size=3, padding=1),\n",
    "            nn.ReLU(),\n",
    "            nn.Conv2d(16, 32, stride=2, kernel_size=3, padding=1),\n",
    "            nn.ReLU(),\n",
    "            nn.Conv2d(32, 64, stride=2, kernel_size=3, padding=1),\n",
    "            nn.ReLU(),\n",
    "            nn.Flatten(),\n",
    "            nn.Linear(7 * 7 * 64, bottleneck_size)  # 7x7x64 after Conv2d layers\n",
    "        )\n",
    "\n",
    "        self.decoder = nn.Sequential(\n",
    "            nn.Linear(bottleneck_size, 7 * 7 * 64),\n",
    "            nn.Unflatten(1, (64, 7, 7)),\n",
    "            nn.ConvTranspose2d(64, 32, kernel_size=3, stride=2, padding=1, output_padding=1),\n",
    "            nn.ReLU(),\n",
    "            nn.ConvTranspose2d(32, 16, kernel_size=3, stride=2, padding=1, output_padding=1),\n",
    "            nn.ReLU(),\n",
    "            nn.ConvTranspose2d(16, 1, kernel_size=3, stride=1, padding=1),\n",
    "            nn.Sigmoid()\n",
    "        )\n",
    "\n",
    "    def forward(self, x):\n",
    "        x = self.encoder(x)\n",
    "        x = self.decoder(x)\n",
    "        return x\n",
    "\n",
    "# Initialize the model, loss function, and optimizer\n",
    "model = AutoEncoder(bottleneck_size=8)\n",
    "optimizer = Adam(model.parameters(), lr=learning_rate)\n",
    "loss_criterion = nn.MSELoss()"
   ]
  },
  {
   "cell_type": "code",
   "execution_count": 57,
   "metadata": {},
   "outputs": [
    {
     "name": "stdout",
     "output_type": "stream",
     "text": [
      "Epoch [1/10], Loss: 0.10815546646093328\n",
      "Epoch [2/10], Loss: 0.05745457547406355\n",
      "Epoch [3/10], Loss: 0.055420452263206244\n",
      "Epoch [4/10], Loss: 0.05431816276783744\n",
      "Epoch [5/10], Loss: 0.047572309616953135\n",
      "Epoch [6/10], Loss: 0.035695715341717005\n",
      "Epoch [7/10], Loss: 0.02799559710547328\n",
      "Epoch [8/10], Loss: 0.02309307277513047\n",
      "Epoch [9/10], Loss: 0.0202322614689668\n",
      "Epoch [10/10], Loss: 0.01841233717277646\n"
     ]
    }
   ],
   "source": [
    "for epoch in range(num_epochs):\n",
    "    total_loss = 0\n",
    "    model.train()\n",
    "    \n",
    "    for batch_idx, (data, _) in enumerate(train_loader):\n",
    "        reconstructed = model(data)\n",
    "        loss = loss_criterion(reconstructed, data)\n",
    "        \n",
    "        optimizer.zero_grad()\n",
    "        loss.backward()\n",
    "        optimizer.step()\n",
    "        \n",
    "        total_loss += loss.item()\n",
    "\n",
    "    print(f'Epoch [{epoch + 1}/{num_epochs}], Loss: {total_loss / len(train_loader)}')"
   ]
  },
  {
   "cell_type": "code",
   "execution_count": 58,
   "metadata": {},
   "outputs": [
    {
     "data": {
      "image/png": "[encoded data removed]",
      "text/plain": [
       "<Figure size 432x288 with 1 Axes>"
      ]
     },
     "metadata": {
      "needs_background": "light"
     },
     "output_type": "display_data"
    }
   ],
   "source": [
    "model.eval()\n",
    "normal_loss = []\n",
    "anomalous_loss = []\n",
    "\n",
    "for batch_idx, (data, labels) in enumerate(test_loader):\n",
    "    with torch.no_grad():\n",
    "        reconstructed = model(data)\n",
    "        \n",
    "        for i in range(len(data)):\n",
    "            loss = loss_criterion(reconstructed[i], data[i]).item()\n",
    "            \n",
    "            if labels[i].item() == normal_dig:\n",
    "                normal_loss.append(loss)\n",
    "            else:\n",
    "                anomalous_loss.append(loss)\n",
    "\n",
    "plt.hist(normal_loss, bins=50, alpha=0.5, color='blue', label='Normal')\n",
    "plt.hist(anomalous_loss, bins=50, alpha=0.5, color='red', label='Anomalous')\n",
    "plt.legend()\n",
    "plt.show()"
   ]
  },
  {
   "cell_type": "code",
   "execution_count": 59,
   "metadata": {},
   "outputs": [
    {
     "name": "stdout",
     "output_type": "stream",
     "text": [
      "Precision: 0.9657534246575342\n",
      "Recall: 0.9980092899800929\n",
      "F1 Score: 0.9816164472968563\n"
     ]
    }
   ],
   "source": [
    "from sklearn.metrics import precision_score, recall_score, f1_score\n",
    "\n",
    "# Set the threshold for anomaly detection\n",
    "threshold = 0.02\n",
    "\n",
    "# True labels for the test data (1 if anomalous, 0 if normal)\n",
    "true_labels = []\n",
    "\n",
    "# Predictions based on the reconstruction error\n",
    "predicted_labels = []\n",
    "\n",
    "# Iterate through test data and calculate predictions based on threshold\n",
    "for batch_idx, (data, labels) in enumerate(test_loader):\n",
    "    with torch.no_grad():\n",
    "        reconstructed = model(data)\n",
    "        \n",
    "        for i in range(len(data)):\n",
    "            # Compute reconstruction error for the current image\n",
    "            loss = loss_criterion(reconstructed[i], data[i]).item()\n",
    "            \n",
    "            # Assign labels based on the threshold\n",
    "            if loss > threshold:  # Predict as anomalous\n",
    "                predicted_labels.append(1)\n",
    "            else:  # Predict as normal\n",
    "                predicted_labels.append(0)\n",
    "            \n",
    "            # True labels\n",
    "            if labels[i].item() == normal_dig:\n",
    "                true_labels.append(0)  # Normal digit\n",
    "            else:\n",
    "                true_labels.append(1)  # Anomalous digit\n",
    "\n",
    "# Calculate precision, recall, and F1 score\n",
    "precision = precision_score(true_labels, predicted_labels)\n",
    "recall = recall_score(true_labels, predicted_labels)\n",
    "f1 = f1_score(true_labels, predicted_labels)\n",
    "\n",
    "print(f'Precision: {precision}')\n",
    "print(f'Recall: {recall}')\n",
    "print(f'F1 Score: {f1}')\n"
   ]
  },
  {
   "cell_type": "code",
   "execution_count": 60,
   "metadata": {},
   "outputs": [
    {
     "name": "stdout",
     "output_type": "stream",
     "text": [
      "Bottleneck size 2, Epoch [1/5], Loss: 0.14275267409781614\n",
      "Bottleneck size 2, Epoch [2/5], Loss: 0.06198162818327546\n",
      "Bottleneck size 2, Epoch [3/5], Loss: 0.05585531253988544\n",
      "Bottleneck size 2, Epoch [4/5], Loss: 0.05540106430028876\n",
      "Bottleneck size 2, Epoch [5/5], Loss: 0.055126226817568146\n",
      "Bottleneck Size: 2, AUC-ROC Score: 0.8698621810811897\n",
      "Bottleneck size 16, Epoch [1/5], Loss: 0.11373385414481163\n",
      "Bottleneck size 16, Epoch [2/5], Loss: 0.058077340479940176\n",
      "Bottleneck size 16, Epoch [3/5], Loss: 0.05540850137670835\n",
      "Bottleneck size 16, Epoch [4/5], Loss: 0.054291105363518\n",
      "Bottleneck size 16, Epoch [5/5], Loss: 0.046425131149590015\n",
      "Bottleneck Size: 16, AUC-ROC Score: 0.9532596433530558\n",
      "Bottleneck size 32, Epoch [1/5], Loss: 0.12636044745643935\n",
      "Bottleneck size 32, Epoch [2/5], Loss: 0.05924352320532004\n",
      "Bottleneck size 32, Epoch [3/5], Loss: 0.055905821888397135\n",
      "Bottleneck size 32, Epoch [4/5], Loss: 0.05527837264041106\n",
      "Bottleneck size 32, Epoch [5/5], Loss: 0.0545762077284356\n",
      "Bottleneck Size: 32, AUC-ROC Score: 0.8914612231760943\n"
     ]
    },
    {
     "data": {
      "image/png": "[encoded data removed]",
      "text/plain": [
       "<Figure size 576x432 with 1 Axes>"
      ]
     },
     "metadata": {
      "needs_background": "light"
     },
     "output_type": "display_data"
    }
   ],
   "source": [
    "from sklearn.metrics import roc_auc_score, roc_curve\n",
    "import matplotlib.pyplot as plt\n",
    "\n",
    "# Function to train the autoencoder with different bottleneck sizes\n",
    "def train_autoencoder(bottleneck_size, num_epochs=10):\n",
    "    model = AutoEncoder(bottleneck_size=bottleneck_size)\n",
    "    optimizer = Adam(model.parameters(), lr=learning_rate)\n",
    "    loss_criterion = nn.MSELoss()\n",
    "\n",
    "    # Training loop\n",
    "    for epoch in range(num_epochs):\n",
    "        model.train()\n",
    "        total_loss = 0\n",
    "        for batch_idx, (data, _) in enumerate(train_loader):\n",
    "            reconstructed = model(data)\n",
    "            loss = loss_criterion(reconstructed, data)\n",
    "            optimizer.zero_grad()\n",
    "            loss.backward()\n",
    "            optimizer.step()\n",
    "            total_loss += loss.item()\n",
    "        print(f'Bottleneck size {bottleneck_size}, Epoch [{epoch+1}/{num_epochs}], Loss: {total_loss / len(train_loader)}')\n",
    "\n",
    "    return model\n",
    "\n",
    "# Function to compute the ROC AUC score\n",
    "def compute_auc_roc(model, threshold=0.02):\n",
    "    true_labels = []\n",
    "    reconstruction_errors = []\n",
    "\n",
    "    model.eval()\n",
    "    for batch_idx, (data, labels) in enumerate(test_loader):\n",
    "        with torch.no_grad():\n",
    "            reconstructed = model(data)\n",
    "            for i in range(len(data)):\n",
    "                loss = loss_criterion(reconstructed[i], data[i]).item()\n",
    "                reconstruction_errors.append(loss)\n",
    "                # True label\n",
    "                if labels[i].item() == normal_dig:\n",
    "                    true_labels.append(0)  # Normal\n",
    "                else:\n",
    "                    true_labels.append(1)  # Anomalous\n",
    "\n",
    "    # Compute ROC-AUC score\n",
    "    auc_score = roc_auc_score(true_labels, reconstruction_errors)\n",
    "    fpr, tpr, _ = roc_curve(true_labels, reconstruction_errors)\n",
    "    \n",
    "    return auc_score, fpr, tpr\n",
    "\n",
    "# Choose three different bottleneck dimensions\n",
    "bottleneck_sizes = [2, 16, 32]\n",
    "auc_scores = []\n",
    "roc_curves = []\n",
    "\n",
    "for bottleneck_size in bottleneck_sizes:\n",
    "    # Train model with the current bottleneck size\n",
    "    model = train_autoencoder(bottleneck_size=bottleneck_size, num_epochs=5)\n",
    "    \n",
    "    # Compute AUC-ROC score\n",
    "    auc_score, fpr, tpr = compute_auc_roc(model)\n",
    "    auc_scores.append(auc_score)\n",
    "    roc_curves.append((fpr, tpr))\n",
    "    \n",
    "    print(f'Bottleneck Size: {bottleneck_size}, AUC-ROC Score: {auc_score}')\n",
    "\n",
    "# Plot the ROC curves\n",
    "plt.figure(figsize=(8, 6))\n",
    "for i, (fpr, tpr) in enumerate(roc_curves):\n",
    "    plt.plot(fpr, tpr, label=f'Bottleneck {bottleneck_sizes[i]}, AUC = {auc_scores[i]:.4f}')\n",
    "plt.plot([0, 1], [0, 1], 'k--')  # Diagonal line for random classifier\n",
    "plt.xlabel('False Positive Rate')\n",
    "plt.ylabel('True Positive Rate')\n",
    "plt.title('ROC Curve for Different Bottleneck Sizes')\n",
    "plt.legend(loc='lower right')\n",
    "plt.show()\n"
   ]
  },
  {
   "cell_type": "markdown",
   "metadata": {},
   "source": [
    "##### Bottleneck 2\n",
    "The relatively lower AUC indicates that the severe compression (only 2 latent features) may be causing underfitting: the model is not able to learn and represent enough information from the input data.\n",
    "\n",
    "#### Bottleneck 16\n",
    "The highest AUC among the three suggests that this intermediate bottleneck dimension provides the best trade-off between representational capacity and generalization.\n",
    "\n",
    "#### Bottlenect 32\n",
    "In this case, the AUC is higher than that of the very small bottleneck (2), but still below the performance of the bottleneck size 16. This implies that going bigger did not continue to improve performance and may even have led to a slight decrease, possibly from overfitting or less effective regularization."
   ]
  },
  {
   "cell_type": "markdown",
   "metadata": {},
   "source": []
  }
 ],
 "metadata": {
  "kernelspec": {
   "display_name": "Python 3",
   "language": "python",
   "name": "python3"
  },
  "language_info": {
   "codemirror_mode": {
    "name": "ipython",
    "version": 3
   },
   "file_extension": ".py",
   "mimetype": "text/x-python",
   "name": "python",
   "nbconvert_exporter": "python",
   "pygments_lexer": "ipython3",
   "version": "3.10.12"
  }
 },
 "nbformat": 4,
 "nbformat_minor": 2
}
